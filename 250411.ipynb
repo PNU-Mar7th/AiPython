{
 "cells": [
  {
   "cell_type": "code",
   "execution_count": 7,
   "id": "572b739f-7279-49a3-a178-9e544316c340",
   "metadata": {},
   "outputs": [
    {
     "name": "stdin",
     "output_type": "stream",
     "text": [
      "주민등록번호를 입력해주세요: 250411-311111\n"
     ]
    },
    {
     "name": "stdout",
     "output_type": "stream",
     "text": [
      "남자\n"
     ]
    }
   ],
   "source": [
    "id = input('주민등록번호를 입력해주세요:')\n",
    "mf = int(id[7:8])\n",
    "if mf % 2 == 0:\n",
    "    print('여자')\n",
    "else:\n",
    "    print('남자')\n"
   ]
  },
  {
   "cell_type": "code",
   "execution_count": 12,
   "id": "e72b5c57-9f8a-4a75-a681-9999b5668488",
   "metadata": {},
   "outputs": [
    {
     "name": "stdin",
     "output_type": "stream",
     "text": [
      "문자열: 토마토마토마토\n"
     ]
    },
    {
     "name": "stdout",
     "output_type": "stream",
     "text": [
      "토마토마토마토 문자열은 회문\n"
     ]
    }
   ],
   "source": [
    "s1 = input('문자열:')\n",
    "s2 = s1[::-1]\n",
    "if s1 == s2:\n",
    "    print(f'{s1} 문자열은 회문')\n",
    "else:\n",
    "    print(f'{s1} 문자열은 회문아님')"
   ]
  },
  {
   "cell_type": "code",
   "execution_count": 14,
   "id": "7b03d2d3-9c26-458f-8aa1-2d25de1c0d85",
   "metadata": {},
   "outputs": [
    {
     "name": "stdout",
     "output_type": "stream",
     "text": [
      "['부산시', '금정구']\n"
     ]
    }
   ],
   "source": [
    "s = '부산시 금정구'\n",
    "print(s.split(' '))\n"
   ]
  },
  {
   "cell_type": "code",
   "execution_count": 17,
   "id": "0241fca0-7ffd-4f1c-86cb-b3e3800a0275",
   "metadata": {},
   "outputs": [
    {
     "name": "stdout",
     "output_type": "stream",
     "text": [
      "부산시, 금정구\n"
     ]
    }
   ],
   "source": [
    "s = ['부산시', '금정구']\n",
    "print(', '.join(s))"
   ]
  },
  {
   "cell_type": "code",
   "execution_count": 40,
   "id": "2121207a-27c2-4566-883b-0ffbb4c709b7",
   "metadata": {
    "editable": true,
    "slideshow": {
     "slide_type": ""
    },
    "tags": []
   },
   "outputs": [
    {
     "name": "stdin",
     "output_type": "stream",
     "text": [
      "입력: !!\n"
     ]
    },
    {
     "name": "stdout",
     "output_type": "stream",
     "text": [
      "다시 입력하세요.\n"
     ]
    },
    {
     "name": "stdin",
     "output_type": "stream",
     "text": [
      "입력: asd132\n"
     ]
    },
    {
     "name": "stdout",
     "output_type": "stream",
     "text": [
      "문자열: asd132\n"
     ]
    }
   ],
   "source": [
    "while True:\n",
    "    a = input('입력:')\n",
    "    if a.isalnum() and not (a.isdigit() or a.isalpha()):\n",
    "        break\n",
    "    print('다시 입력하세요.')\n",
    "\n",
    "print(f'문자열: {a}')"
   ]
  },
  {
   "cell_type": "code",
   "execution_count": null,
   "id": "25f6f99a-3d74-46c9-9073-f12240536aea",
   "metadata": {},
   "outputs": [],
   "source": []
  }
 ],
 "metadata": {
  "kernelspec": {
   "display_name": "Python 3 (ipykernel)",
   "language": "python",
   "name": "python3"
  },
  "language_info": {
   "codemirror_mode": {
    "name": "ipython",
    "version": 3
   },
   "file_extension": ".py",
   "mimetype": "text/x-python",
   "name": "python",
   "nbconvert_exporter": "python",
   "pygments_lexer": "ipython3",
   "version": "3.12.6"
  }
 },
 "nbformat": 4,
 "nbformat_minor": 5
}

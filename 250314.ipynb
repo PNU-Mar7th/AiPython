{
  "nbformat": 4,
  "nbformat_minor": 0,
  "metadata": {
    "colab": {
      "provenance": []
    },
    "kernelspec": {
      "name": "python3",
      "display_name": "Python 3"
    },
    "language_info": {
      "name": "python"
    }
  },
  "cells": [
    {
      "cell_type": "code",
      "execution_count": 19,
      "metadata": {
        "colab": {
          "base_uri": "https://localhost:8080/"
        },
        "id": "YfSWuFXGdG3q",
        "outputId": "ef381a7d-08e6-4fa2-b70b-1504c7ac8358"
      },
      "outputs": [
        {
          "output_type": "stream",
          "name": "stdout",
          "text": [
            "5\n",
            "반지름이5.0인 원의 면적은 78.5398입니다.\n"
          ]
        }
      ],
      "source": [
        "#반지름이 n인 원의 면적 구하기\n",
        "pi = 3.141592\n",
        "n = float(input())\n",
        "ans1 = pi * n * n\n",
        "print(f\"반지름이{n}인 원의 면적은 {ans1}입니다.\")"
      ]
    },
    {
      "cell_type": "code",
      "source": [
        "#m분을 시간과 분으로 변환\n",
        "m = float(input())\n",
        "m1 = m\n",
        "h = 0\n",
        "m2 = 0\n",
        "if m < 60:\n",
        "  print(f\"{m}분은 {0}시간 {m}분입니다.\")\n",
        "else:\n",
        "  while m > 60:\n",
        "    h=h+1\n",
        "    m=m-60\n",
        "    if m < 60:\n",
        "      m2 = m\n",
        "      break\n",
        "  print(f\"{m1}분은 {h}시간 {m2}분입니다.\")"
      ],
      "metadata": {
        "colab": {
          "base_uri": "https://localhost:8080/"
        },
        "id": "pCNvQrDWfAMl",
        "outputId": "8d930b39-a441-4c7e-f4f5-7d063b276c73"
      },
      "execution_count": 42,
      "outputs": [
        {
          "output_type": "stream",
          "name": "stdout",
          "text": [
            "100\n",
            "100.0분은 1시간 40.0분입니다.\n"
          ]
        }
      ]
    },
    {
      "cell_type": "code",
      "source": [],
      "metadata": {
        "id": "B9IDUjPnhSTM"
      },
      "execution_count": null,
      "outputs": []
    }
  ]
}
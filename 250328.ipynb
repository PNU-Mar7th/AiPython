{
  "nbformat": 4,
  "nbformat_minor": 0,
  "metadata": {
    "colab": {
      "provenance": [],
      "authorship_tag": "ABX9TyNa0jxA4GCj6vnt1qH9DIPu",
      "include_colab_link": true
    },
    "kernelspec": {
      "name": "python3",
      "display_name": "Python 3"
    },
    "language_info": {
      "name": "python"
    }
  },
  "cells": [
    {
      "cell_type": "markdown",
      "metadata": {
        "id": "view-in-github",
        "colab_type": "text"
      },
      "source": [
        "<a href=\"https://colab.research.google.com/github/PNU-Mar7th/AiPython/blob/main/250328.ipynb\" target=\"_parent\"><img src=\"https://colab.research.google.com/assets/colab-badge.svg\" alt=\"Open In Colab\"/></a>"
      ]
    },
    {
      "cell_type": "code",
      "source": [
        "# 두 정수 비교\n",
        "n1 = int(input(\"첫 번째 정수 입력: \"))\n",
        "n2 = int(input(\"두 번째 정수 입력: \"))\n",
        "if n1 > n2:\n",
        "  print(f\"{n1}은(는) {n2}보다 크다.\")\n",
        "elif n1 < n2:\n",
        "  print(f\"{n1}은(는) {n2}보다 작다.\")\n",
        "else:\n",
        "  print(f\"{n1}과(와) {n2}은(는) 같다.\")"
      ],
      "metadata": {
        "colab": {
          "base_uri": "https://localhost:8080/"
        },
        "id": "FOw8HH3VZKXk",
        "outputId": "b174cf21-bd37-4ab3-aef3-ab8b2e126ef2"
      },
      "execution_count": 5,
      "outputs": [
        {
          "output_type": "stream",
          "name": "stdout",
          "text": [
            "첫 번째 정수 입력: 1557\n",
            "두 번째 정수 입력: 88848\n",
            "1557은(는) 88848보다 작다.\n"
          ]
        }
      ]
    },
    {
      "cell_type": "code",
      "execution_count": 9,
      "metadata": {
        "colab": {
          "base_uri": "https://localhost:8080/"
        },
        "id": "yze8fdHnSJrs",
        "outputId": "44b921ac-8050-43f7-88ae-771416d3adfc"
      },
      "outputs": [
        {
          "output_type": "stream",
          "name": "stdout",
          "text": [
            "첫 번째 정수 입력:1557\n",
            "1557\n",
            "두 번째 정수 입력:88848\n",
            "88848\n",
            "세 번째 정수 입력:1\n",
            "1\n",
            "두 번째 수 88848가 현재 최댓값 1557보다 크다. 최댓값 업데이트.\n",
            "세 번째 수1는 현재 최댓값 88848보다 크지 않다.\n",
            "입력한 세 정수 중 가장 큰 정수는 88848이다.\n"
          ]
        }
      ],
      "source": [
        "#세 정수 중 가장 큰 정수\n",
        "n1 = int(input(\"첫 번째 정수 입력:\"))\n",
        "print(n1)\n",
        "n2 = int(input(\"두 번째 정수 입력:\"))\n",
        "print(n2)\n",
        "n3 = int(input(\"세 번째 정수 입력:\"))\n",
        "print(n3)\n",
        "\n",
        "m = n1\n",
        "\n",
        "if n2 > m:\n",
        "  print(f\"두 번째 수 {n2}가 현재 최댓값 {m}보다 크다. 최댓값 업데이트.\")\n",
        "  m = n2\n",
        "else:\n",
        "  print(f\"두 번째 수{n2}는 현재 최댓값 {m}보다 크지 않다.\")\n",
        "if n3 > m:\n",
        "  print(f\"세 번째 수 {n3}가 현재 최댓값 {m}보다 크다. 최댓값 업데이트.\")\n",
        "  m = n3\n",
        "else:\n",
        "  print(f\"세 번째 수{n3}는 현재 최댓값 {m}보다 크지 않다.\")\n",
        "print(f\"입력한 세 정수 중 가장 큰 정수는 {m}이다.\")"
      ]
    },
    {
      "cell_type": "code",
      "source": [
        "#학점 계산기\n",
        "점수 = int(input(f\"당신의 초라한 점수를 입력:\"))\n",
        "if 0 <= 점수 <= 100:\n",
        "  if 점수 >= 90:\n",
        "    학점 = \"A\"\n",
        "    print(\"족보를 보셨군요?\")\n",
        "  elif 점수 >= 80:\n",
        "    학점 = \"B\"\n",
        "  elif 점수 >= 70:\n",
        "    학점 = \"C\"\n",
        "  elif 점수 >= 60:\n",
        "    학점 = \"D\"\n",
        "  else:\n",
        "    학점 = \"F\"\n",
        "    print(\"자퇴를 추천드립니다.\")\n",
        "  print(f\"당신의 학점은 {학점}입니다.\")\n",
        "else:\n",
        "  print(\"당신은 정말 그런 점수를 받았습니까?\")"
      ],
      "metadata": {
        "colab": {
          "base_uri": "https://localhost:8080/"
        },
        "id": "Ey8jcjYcce0b",
        "outputId": "64962564-e95b-491a-9782-e1d71b7b93f8"
      },
      "execution_count": 51,
      "outputs": [
        {
          "output_type": "stream",
          "name": "stdout",
          "text": [
            "당신의 초라한 점수를 입력:99\n",
            "족보를 보셨군요?\n",
            "당신의 학점은 A입니다.\n"
          ]
        }
      ]
    },
    {
      "cell_type": "code",
      "source": [
        "#윤년\n",
        "y = int(input(\"연도를 입력:\"))\n",
        "if (y % 4 == 0 and y % 100 != 0) or (y % 400 == 0):\n",
        "  print(f\"{y}년은 윤년.\")\n",
        "else:\n",
        "  print(f\"{y}년은 평년.\")"
      ],
      "metadata": {
        "colab": {
          "base_uri": "https://localhost:8080/"
        },
        "id": "KZXCTtKcgMWk",
        "outputId": "89a8cfe7-ecd7-40bd-80c0-bcbb294befe3"
      },
      "execution_count": 53,
      "outputs": [
        {
          "output_type": "stream",
          "name": "stdout",
          "text": [
            "연도를 입력:88848\n",
            "88848년은 윤년.\n"
          ]
        }
      ]
    },
    {
      "cell_type": "code",
      "source": [
        "for i in range(5):\n",
        " print(i+1)"
      ],
      "metadata": {
        "colab": {
          "base_uri": "https://localhost:8080/"
        },
        "id": "br71YjFGlNPj",
        "outputId": "30778be9-e7ab-4c82-e966-6ff7c6da1ca0"
      },
      "execution_count": 56,
      "outputs": [
        {
          "output_type": "stream",
          "name": "stdout",
          "text": [
            "1\n",
            "2\n",
            "3\n",
            "4\n",
            "5\n"
          ]
        }
      ]
    },
    {
      "cell_type": "code",
      "source": [
        "list = [1, 2, 3, 4, 5]\n",
        "for i in range(len(list)):\n",
        "  print(list[i])"
      ],
      "metadata": {
        "colab": {
          "base_uri": "https://localhost:8080/"
        },
        "id": "KMF1rGsHmmRD",
        "outputId": "d061a1f2-ae5f-455d-b75c-4f38ac6ac2c8"
      },
      "execution_count": 57,
      "outputs": [
        {
          "output_type": "stream",
          "name": "stdout",
          "text": [
            "1\n",
            "2\n",
            "3\n",
            "4\n",
            "5\n"
          ]
        }
      ]
    },
    {
      "cell_type": "code",
      "source": [
        "c = 0\n",
        "while c < 3:\n",
        " print(c)\n",
        " c += 1"
      ],
      "metadata": {
        "colab": {
          "base_uri": "https://localhost:8080/"
        },
        "id": "4ciJA47Um1R7",
        "outputId": "479cf66b-a4a0-485a-bc92-925549963dbb"
      },
      "execution_count": 59,
      "outputs": [
        {
          "output_type": "stream",
          "name": "stdout",
          "text": [
            "0\n",
            "1\n",
            "2\n"
          ]
        }
      ]
    },
    {
      "cell_type": "code",
      "source": [
        "#1부터 N까지 합\n",
        "try:\n",
        "  n = int(input(\"양의 정수 입력:\"))\n",
        "  if n > 0:\n",
        "    s = 0\n",
        "    for i in range(1, n+1):\n",
        "      s += i\n",
        "    print(f\"1부터 {n}까지의 합은 {s}이다.\")\n",
        "  else:\n",
        "      print(\"양의 정수를 입력하라고 했다.\")\n",
        "except ValueError:\n",
        "  print(\"유효한 숫자를 입력하라고.\")"
      ],
      "metadata": {
        "colab": {
          "base_uri": "https://localhost:8080/"
        },
        "id": "-Fn3Tqx0ov3r",
        "outputId": "15046d05-9382-4196-ac72-1f2c5deef602"
      },
      "execution_count": 75,
      "outputs": [
        {
          "output_type": "stream",
          "name": "stdout",
          "text": [
            "양의 정수 입력:10\n",
            "1부터 10까지의 합은 55이다.\n"
          ]
        }
      ]
    },
    {
      "cell_type": "code",
      "source": [
        "#While 반복\n",
        "n = 0\n",
        "print(\"0부터 9까지 출력:\")\n",
        "while n < 10:\n",
        "  print(n)\n",
        "  n += 1\n",
        "print(\"while 루프 종료\")"
      ],
      "metadata": {
        "colab": {
          "base_uri": "https://localhost:8080/"
        },
        "id": "NSph54_yrZVC",
        "outputId": "45907670-a2b6-44c2-af40-1a741095af5f"
      },
      "execution_count": 104,
      "outputs": [
        {
          "output_type": "stream",
          "name": "stdout",
          "text": [
            "0부터 9까지 출력:\n",
            "0\n",
            "1\n",
            "2\n",
            "3\n",
            "4\n",
            "5\n",
            "6\n",
            "7\n",
            "8\n",
            "9\n",
            "while 루프 종료\n"
          ]
        }
      ]
    }
  ]
}
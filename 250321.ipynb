{
 "cells": [
  {
   "cell_type": "code",
   "execution_count": 5,
   "id": "68f1d00f-68c1-48fd-bb3a-499831b02306",
   "metadata": {},
   "outputs": [
    {
     "name": "stdin",
     "output_type": "stream",
     "text": [
      "나이를 입력하세요: 1\n"
     ]
    },
    {
     "name": "stdout",
     "output_type": "stream",
     "text": [
      "당신은 내년에 2 살입니다.\n"
     ]
    }
   ],
   "source": [
    "age = input(\"나이를 입력하세요:\")\n",
    "age =int(age)\n",
    "print(\"당신은 내년에\", age + 1, \"살입니다.\")"
   ]
  },
  {
   "cell_type": "code",
   "execution_count": 3,
   "id": "7c524fca-70ce-436a-837f-db2a9ca85ade",
   "metadata": {},
   "outputs": [
    {
     "name": "stdin",
     "output_type": "stream",
     "text": [
      "나이를 입력하세요: 1\n"
     ]
    },
    {
     "name": "stdout",
     "output_type": "stream",
     "text": [
      "당신은 내년에 2 살입니다.\n"
     ]
    }
   ],
   "source": [
    "age = input(\"나이를 입력하세요:\")\n",
    "age =int(age)\n",
    "age = age + 1\n",
    "print(\"당신은 내년에\", age, \"살입니다.\")"
   ]
  },
  {
   "cell_type": "code",
   "execution_count": 8,
   "id": "3a3ea0cb-6e09-46bd-93a2-795dab6aabe5",
   "metadata": {},
   "outputs": [
    {
     "name": "stdin",
     "output_type": "stream",
     "text": [
      "나이를 입력하세요: 1\n"
     ]
    },
    {
     "name": "stdout",
     "output_type": "stream",
     "text": [
      "당신은 내년에 2 살입니다.\n"
     ]
    }
   ],
   "source": [
    "age = int(input(\"나이를 입력하세요:\"))\n",
    "print(\"당신은 내년에\", age + 1, \"살입니다.\")"
   ]
  },
  {
   "cell_type": "code",
   "execution_count": 9,
   "id": "3a601d4c-e030-459c-acfa-b9fc1ab3883e",
   "metadata": {},
   "outputs": [
    {
     "name": "stdin",
     "output_type": "stream",
     "text": [
      "나이를 입력하세요: 1\n"
     ]
    },
    {
     "name": "stdout",
     "output_type": "stream",
     "text": [
      "당신은 내년에 2.0 살입니다.\n"
     ]
    }
   ],
   "source": [
    "age = float(input(\"나이를 입력하세요:\"))\n",
    "print(\"당신은 내년에\", age + 1, \"살입니다.\")"
   ]
  },
  {
   "cell_type": "code",
   "execution_count": 12,
   "id": "65c080a5-ab78-4a72-b372-07fc549f19b4",
   "metadata": {},
   "outputs": [
    {
     "name": "stdin",
     "output_type": "stream",
     "text": [
      "나이를 입력하세요: 10\n"
     ]
    },
    {
     "name": "stdout",
     "output_type": "stream",
     "text": [
      "10살입니다.\n"
     ]
    }
   ],
   "source": [
    "age = input(\"나이를 입력하세요:\")\n",
    "print(age + \"살입니다.\")"
   ]
  },
  {
   "cell_type": "code",
   "execution_count": 21,
   "id": "b24ba184-08d0-45ae-a929-d7bca91e7096",
   "metadata": {},
   "outputs": [
    {
     "name": "stdin",
     "output_type": "stream",
     "text": [
      "숫자를 입력하세요 : -1\n"
     ]
    },
    {
     "name": "stdout",
     "output_type": "stream",
     "text": [
      "음수입니다.\n"
     ]
    }
   ],
   "source": [
    "n =  float(input(\"숫자를 입력하세요 :\"))\n",
    "if n > 0:\n",
    "    print(\"양수입니다.\")\n",
    "elif n == 0:\n",
    "     print(\"0입니다.\")\n",
    "else:\n",
    "     print(\"음수입니다.\")"
   ]
  },
  {
   "cell_type": "code",
   "execution_count": 29,
   "id": "6e1319b1-0cdb-40b0-981c-27755697cf82",
   "metadata": {},
   "outputs": [
    {
     "name": "stdin",
     "output_type": "stream",
     "text": [
      "숫자를 입력하세요 : 12345678\n"
     ]
    },
    {
     "name": "stdout",
     "output_type": "stream",
     "text": [
      "짝수입니다.\n"
     ]
    }
   ],
   "source": [
    "n = int(input(\"숫자를 입력하세요 :\"))\n",
    "n2 = n % 2\n",
    "if n2 == 0:\n",
    "    print(\"짝수입니다.\")\n",
    "else:\n",
    "    print(\"홀수입니다.\")"
   ]
  },
  {
   "cell_type": "code",
   "execution_count": null,
   "id": "d756a011-fc13-4370-8360-1d1f93b6bd73",
   "metadata": {},
   "outputs": [],
   "source": []
  }
 ],
 "metadata": {
  "kernelspec": {
   "display_name": "Python 3 (ipykernel)",
   "language": "python",
   "name": "python3"
  },
  "language_info": {
   "codemirror_mode": {
    "name": "ipython",
    "version": 3
   },
   "file_extension": ".py",
   "mimetype": "text/x-python",
   "name": "python",
   "nbconvert_exporter": "python",
   "pygments_lexer": "ipython3",
   "version": "3.12.6"
  }
 },
 "nbformat": 4,
 "nbformat_minor": 5
}

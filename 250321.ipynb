{
  "cells": [
    {
      "cell_type": "code",
      "execution_count": null,
      "id": "68f1d00f-68c1-48fd-bb3a-499831b02306",
      "metadata": {
        "id": "68f1d00f-68c1-48fd-bb3a-499831b02306",
        "outputId": "fc589861-0960-408a-aa6f-aa3cf2f4a7ee"
      },
      "outputs": [
        {
          "name": "stdin",
          "output_type": "stream",
          "text": [
            "나이를 입력하세요: 1\n"
          ]
        },
        {
          "name": "stdout",
          "output_type": "stream",
          "text": [
            "당신은 내년에 2 살입니다.\n"
          ]
        }
      ],
      "source": [
        "age = input(\"나이를 입력하세요:\")\n",
        "age =int(age)\n",
        "print(\"당신은 내년에\", age + 1, \"살입니다.\")"
      ]
    },
    {
      "cell_type": "code",
      "execution_count": null,
      "id": "7c524fca-70ce-436a-837f-db2a9ca85ade",
      "metadata": {
        "id": "7c524fca-70ce-436a-837f-db2a9ca85ade",
        "outputId": "9682b429-b3dd-45b9-9fb0-f90d6396eb68"
      },
      "outputs": [
        {
          "name": "stdin",
          "output_type": "stream",
          "text": [
            "나이를 입력하세요: 1\n"
          ]
        },
        {
          "name": "stdout",
          "output_type": "stream",
          "text": [
            "당신은 내년에 2 살입니다.\n"
          ]
        }
      ],
      "source": [
        "age = input(\"나이를 입력하세요:\")\n",
        "age =int(age)\n",
        "age = age + 1\n",
        "print(\"당신은 내년에\", age, \"살입니다.\")"
      ]
    },
    {
      "cell_type": "code",
      "execution_count": null,
      "id": "3a3ea0cb-6e09-46bd-93a2-795dab6aabe5",
      "metadata": {
        "id": "3a3ea0cb-6e09-46bd-93a2-795dab6aabe5",
        "outputId": "28471bae-6b89-4f18-d0d9-67ab4f97dcd4"
      },
      "outputs": [
        {
          "name": "stdin",
          "output_type": "stream",
          "text": [
            "나이를 입력하세요: 1\n"
          ]
        },
        {
          "name": "stdout",
          "output_type": "stream",
          "text": [
            "당신은 내년에 2 살입니다.\n"
          ]
        }
      ],
      "source": [
        "age = int(input(\"나이를 입력하세요:\"))\n",
        "print(\"당신은 내년에\", age + 1, \"살입니다.\")"
      ]
    },
    {
      "cell_type": "code",
      "execution_count": null,
      "id": "3a601d4c-e030-459c-acfa-b9fc1ab3883e",
      "metadata": {
        "id": "3a601d4c-e030-459c-acfa-b9fc1ab3883e",
        "outputId": "c3599aaa-226d-492f-99e7-5c70ce0f74d7"
      },
      "outputs": [
        {
          "name": "stdin",
          "output_type": "stream",
          "text": [
            "나이를 입력하세요: 1\n"
          ]
        },
        {
          "name": "stdout",
          "output_type": "stream",
          "text": [
            "당신은 내년에 2.0 살입니다.\n"
          ]
        }
      ],
      "source": [
        "age = float(input(\"나이를 입력하세요:\"))\n",
        "print(\"당신은 내년에\", age + 1, \"살입니다.\")"
      ]
    },
    {
      "cell_type": "code",
      "execution_count": null,
      "id": "65c080a5-ab78-4a72-b372-07fc549f19b4",
      "metadata": {
        "id": "65c080a5-ab78-4a72-b372-07fc549f19b4",
        "outputId": "5f1cdc4b-b70d-45ac-81de-0a2cf0712bcf"
      },
      "outputs": [
        {
          "name": "stdin",
          "output_type": "stream",
          "text": [
            "나이를 입력하세요: 10\n"
          ]
        },
        {
          "name": "stdout",
          "output_type": "stream",
          "text": [
            "10살입니다.\n"
          ]
        }
      ],
      "source": [
        "age = input(\"나이를 입력하세요:\")\n",
        "print(age + \"살입니다.\")"
      ]
    },
    {
      "cell_type": "code",
      "execution_count": null,
      "id": "b24ba184-08d0-45ae-a929-d7bca91e7096",
      "metadata": {
        "id": "b24ba184-08d0-45ae-a929-d7bca91e7096",
        "outputId": "c148ff60-aebf-4656-c449-444509e6b91a"
      },
      "outputs": [
        {
          "name": "stdin",
          "output_type": "stream",
          "text": [
            "숫자를 입력하세요 : -1\n"
          ]
        },
        {
          "name": "stdout",
          "output_type": "stream",
          "text": [
            "음수입니다.\n"
          ]
        }
      ],
      "source": [
        "n =  float(input(\"숫자를 입력하세요 :\"))\n",
        "if n > 0:\n",
        "    print(\"양수입니다.\")\n",
        "elif n == 0:\n",
        "     print(\"0입니다.\")\n",
        "else:\n",
        "     print(\"음수입니다.\")"
      ]
    },
    {
      "cell_type": "code",
      "execution_count": null,
      "id": "6e1319b1-0cdb-40b0-981c-27755697cf82",
      "metadata": {
        "id": "6e1319b1-0cdb-40b0-981c-27755697cf82",
        "outputId": "ea58d30d-b36e-49d0-a652-e9564f30ffa1"
      },
      "outputs": [
        {
          "name": "stdin",
          "output_type": "stream",
          "text": [
            "숫자를 입력하세요 : 12345678\n"
          ]
        },
        {
          "name": "stdout",
          "output_type": "stream",
          "text": [
            "짝수입니다.\n"
          ]
        }
      ],
      "source": [
        "n = int(input(\"숫자를 입력하세요 :\"))\n",
        "n2 = n % 2\n",
        "if n2 == 0:\n",
        "    print(\"짝수입니다.\")\n",
        "else:\n",
        "    print(\"홀수입니다.\")"
      ]
    },
    {
      "cell_type": "code",
      "execution_count": 1,
      "id": "d756a011-fc13-4370-8360-1d1f93b6bd73",
      "metadata": {
        "id": "d756a011-fc13-4370-8360-1d1f93b6bd73",
        "outputId": "b7ea46b1-fb15-404b-d779-31afa87f6bba",
        "colab": {
          "base_uri": "https://localhost:8080/"
        }
      },
      "outputs": [
        {
          "output_type": "stream",
          "name": "stdout",
          "text": [
            "3 1\n",
            "B승A패\n"
          ]
        }
      ],
      "source": [
        "a, b = map(int, input().split())\n",
        "if a == 1:\n",
        "    if b == 1:\n",
        "        print(\"무승부\")\n",
        "    elif b == 2:\n",
        "        print(\"B승A패\")\n",
        "    elif b == 3:\n",
        "        print(\"A승B패\")\n",
        "    else:\n",
        "        print(\"잘못된입력\")\n",
        "elif a == 2:\n",
        "    if b == 2:\n",
        "        print(\"무승부\")\n",
        "    elif b == 3:\n",
        "        print(\"B승A패\")\n",
        "    elif b == 1:\n",
        "        print(\"A승B패\")\n",
        "    else:\n",
        "        print(\"잘못된입력\")\n",
        "elif a == 3:\n",
        "    if b == 3:\n",
        "        print(\"무승부\")\n",
        "    elif b == 1:\n",
        "        print(\"B승A패\")\n",
        "    elif b == 2:\n",
        "        print(\"A승B패\")\n",
        "    else:\n",
        "        print(\"잘못된입력\")\n",
        "else:\n",
        "    print(\"잘못된입력\")\n"
      ]
    }
  ],
  "metadata": {
    "kernelspec": {
      "display_name": "Python 3 (ipykernel)",
      "language": "python",
      "name": "python3"
    },
    "language_info": {
      "codemirror_mode": {
        "name": "ipython",
        "version": 3
      },
      "file_extension": ".py",
      "mimetype": "text/x-python",
      "name": "python",
      "nbconvert_exporter": "python",
      "pygments_lexer": "ipython3",
      "version": "3.12.6"
    },
    "colab": {
      "provenance": []
    }
  },
  "nbformat": 4,
  "nbformat_minor": 5
}
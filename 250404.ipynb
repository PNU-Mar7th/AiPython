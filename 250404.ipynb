{
 "cells": [
  {
   "cell_type": "code",
   "execution_count": 2,
   "id": "3b3652af-0a74-442c-af75-7834271e389e",
   "metadata": {},
   "outputs": [
    {
     "name": "stdin",
     "output_type": "stream",
     "text": [
      "섭씨 or 화씨 : 섭씨\n",
      "섭씨온도: 161\n"
     ]
    },
    {
     "name": "stdout",
     "output_type": "stream",
     "text": [
      "섭씨온도 161는 화씨온도로 321.80입니다.\n"
     ]
    }
   ],
   "source": [
    "kind = input('섭씨 or 화씨 :')\n",
    "temp = int(input(kind+ '온도:'))\n",
    "if kind == '섭씨':\n",
    "    temp1 = temp*9/5+32\n",
    "    print(f'섭씨온도 {temp}는 화씨온도로 {temp1:.2f}입니다.')\n",
    "else:\n",
    "    temp2 = (temp-32)*5/9\n",
    "    print(f'화씨온도 {temp}는 섭씨온도로 {temp2:.2f}입니다.')"
   ]
  },
  {
   "cell_type": "code",
   "execution_count": 11,
   "id": "d1c906d9-361b-4401-915c-dbeb8a5b46bf",
   "metadata": {},
   "outputs": [
    {
     "name": "stdout",
     "output_type": "stream",
     "text": [
      "1부터 100까지의 자연수 중 하나를 정했습니다.\n",
      "이 숫자를 맞춰보세요.\n"
     ]
    },
    {
     "name": "stdin",
     "output_type": "stream",
     "text": [
      "1~100 숫자 입력: 50\n"
     ]
    },
    {
     "name": "stdout",
     "output_type": "stream",
     "text": [
      "50보다 작습니다\n"
     ]
    },
    {
     "name": "stdin",
     "output_type": "stream",
     "text": [
      "1~100 숫자 입력: 25\n"
     ]
    },
    {
     "name": "stdout",
     "output_type": "stream",
     "text": [
      "25보다 작습니다\n"
     ]
    },
    {
     "name": "stdin",
     "output_type": "stream",
     "text": [
      "1~100 숫자 입력: 12\n"
     ]
    },
    {
     "name": "stdout",
     "output_type": "stream",
     "text": [
      "12보다 작습니다\n"
     ]
    },
    {
     "name": "stdin",
     "output_type": "stream",
     "text": [
      "1~100 숫자 입력: 6\n"
     ]
    },
    {
     "name": "stdout",
     "output_type": "stream",
     "text": [
      "6보다 작습니다\n"
     ]
    },
    {
     "name": "stdin",
     "output_type": "stream",
     "text": [
      "1~100 숫자 입력: 3\n"
     ]
    },
    {
     "name": "stdout",
     "output_type": "stream",
     "text": [
      "3보다 작습니다\n"
     ]
    },
    {
     "name": "stdin",
     "output_type": "stream",
     "text": [
      "1~100 숫자 입력: 1\n"
     ]
    },
    {
     "name": "stdout",
     "output_type": "stream",
     "text": [
      "6회 만에 정답!\n"
     ]
    }
   ],
   "source": [
    "import random\n",
    "print('1부터 100까지의 자연수 중 하나를 정했습니다.')\n",
    "print('이 숫자를 맞춰보세요.')\n",
    "num = random.randint(1,100)\n",
    "t = 0\n",
    "while True:\n",
    "    ans = int(input('1~100 숫자 입력:'))\n",
    "    t += 1 \n",
    "    if ans == num:\n",
    "        break\n",
    "    elif ans < num:\n",
    "        print(f'{ans}보다 큽니다')\n",
    "    else:\n",
    "        print(f'{ans}보다 작습니다')\n",
    "print(f'{t}회 만에 정답!')"
   ]
  },
  {
   "cell_type": "code",
   "execution_count": 33,
   "id": "58c5c82c-0180-4149-9f98-7ee5b9d456a9",
   "metadata": {},
   "outputs": [
    {
     "name": "stdout",
     "output_type": "stream",
     "text": [
      "[11, 25, 26, 33, 38, 39]\n"
     ]
    }
   ],
   "source": [
    "import random\n",
    "lotto = []\n",
    "num = random.sample(range(1,46),6)\n",
    "lotto.extend(num)\n",
    "lotto.sort()\n",
    "print(lotto)"
   ]
  },
  {
   "cell_type": "code",
   "execution_count": 42,
   "id": "aa30f2dd-bd02-4def-b252-515d9328e3d0",
   "metadata": {},
   "outputs": [
    {
     "name": "stdout",
     "output_type": "stream",
     "text": [
      "432\n",
      "86.4\n"
     ]
    }
   ],
   "source": [
    "score = [85, 92, 78, 90, 87]\n",
    "총합 = 0\n",
    "평균 = 0\n",
    "개수 = 0\n",
    "\n",
    "for num in score:\n",
    "    총합 += num\n",
    "    개수 += 1\n",
    "평균 = 총합 / 개수\n",
    "\n",
    "print(총합)\n",
    "print(평균)"
   ]
  },
  {
   "cell_type": "code",
   "execution_count": null,
   "id": "da703b2c-4a5b-4f1f-aea9-635b22885c4c",
   "metadata": {},
   "outputs": [],
   "source": []
  }
 ],
 "metadata": {
  "kernelspec": {
   "display_name": "Python 3 (ipykernel)",
   "language": "python",
   "name": "python3"
  },
  "language_info": {
   "codemirror_mode": {
    "name": "ipython",
    "version": 3
   },
   "file_extension": ".py",
   "mimetype": "text/x-python",
   "name": "python",
   "nbconvert_exporter": "python",
   "pygments_lexer": "ipython3",
   "version": "3.12.6"
  }
 },
 "nbformat": 4,
 "nbformat_minor": 5
}
